{
 "cells": [
  {
   "cell_type": "code",
   "execution_count": 2,
   "metadata": {},
   "outputs": [
    {
     "name": "stdout",
     "output_type": "stream",
     "text": [
      "3\n"
     ]
    }
   ],
   "source": [
    "# Lavenshtein Distance - The Levenshtine distance betweem two\n",
    "# strings is defined as minimum number of edits needed to\n",
    "# transform one string into other, with the allowable edit \n",
    "# operations beng insertion, deletion, or substitution of a\n",
    "# single char.\n",
    "\n",
    "# NLTK offers function to calculate this distance. \n",
    "# The implementation uses Dynamic programming.\n",
    "\n",
    "from nltk.metrics.distance import edit_distance    \n",
    "\n",
    "s1 = \"analyze\"\n",
    "s2 = \"analysis\"\n",
    "\n",
    "print(edit_distance(s1,s2))\n"
   ]
  },
  {
   "cell_type": "code",
   "execution_count": 6,
   "metadata": {},
   "outputs": [],
   "source": [
    "# Phonetic Matching – A phonetic matching algorithm takes keywords as input such \n",
    "# as a person's name, location etc. and finds phonetic \n",
    "# similarity between them. This is useful to correct spellings.\n",
    "# metaphone and soundex are two ai phonetic algorithms used for this\n",
    "# purpose."
   ]
  },
  {
   "cell_type": "code",
   "execution_count": 7,
   "metadata": {},
   "outputs": [],
   "source": [
    "# Flexible String Matching – A complete text matching system includes \n",
    "# different algorithms pipelined together to compute variety of text \n",
    "# variations. Regular expressions are really helpful for this purposes \n",
    "# as well. Another common techniques include – exact string matching, \n",
    "# lemmatized matching, and compact matching (takes care of spaces, \n",
    "# punctuation’s, slangs etc)."
   ]
  },
  {
   "cell_type": "code",
   "execution_count": 9,
   "metadata": {},
   "outputs": [
    {
     "name": "stdout",
     "output_type": "stream",
     "text": [
      "0.629940788348712\n"
     ]
    }
   ],
   "source": [
    "# Cosine Similarity – W hen the text is represented as vector notation,\n",
    "# a general cosine similarity can also be applied in order to measure\n",
    "# vectorized similarity. Following code converts a text to vectors\n",
    "# (using term frequency) and applies cosine similarity to provide closeness\n",
    "# among two text.\n",
    "\n",
    "import math\n",
    "from collections import Counter\n",
    "def get_cosine(vec1, vec2):\n",
    "    common = set(vec1.keys()) & set(vec2.keys())\n",
    "    numerator = sum([vec1[x] * vec2[x] for x in common])\n",
    "\n",
    "    sum1 = sum([vec1[x]**2 for x in vec1.keys()]) \n",
    "    sum2 = sum([vec2[x]**2 for x in vec2.keys()]) \n",
    "    denominator = math.sqrt(sum1) * math.sqrt(sum2)\n",
    "   \n",
    "    if not denominator:\n",
    "        return 0.0 \n",
    "    else:\n",
    "        return float(numerator) / denominator\n",
    "\n",
    "def text_to_vector(text): \n",
    "    words = text.split() \n",
    "    return Counter(words)\n",
    "\n",
    "text1 = 'This is an article on analytics vidhya' \n",
    "text2 = 'article on analytics vidhya is about natural language processing'\n",
    "\n",
    "vector1 = text_to_vector(text1) \n",
    "vector2 = text_to_vector(text2) \n",
    "cosine = get_cosine(vector1, vector2)\n",
    "\n",
    "print(cosine)"
   ]
  }
 ],
 "metadata": {
  "kernelspec": {
   "display_name": "Python 3",
   "language": "python",
   "name": "python3"
  },
  "language_info": {
   "codemirror_mode": {
    "name": "ipython",
    "version": 3
   },
   "file_extension": ".py",
   "mimetype": "text/x-python",
   "name": "python",
   "nbconvert_exporter": "python",
   "pygments_lexer": "ipython3",
   "version": "3.6.4"
  }
 },
 "nbformat": 4,
 "nbformat_minor": 2
}

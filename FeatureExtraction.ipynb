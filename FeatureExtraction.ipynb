{
 "cells": [
  {
   "cell_type": "code",
   "execution_count": 7,
   "metadata": {},
   "outputs": [],
   "source": [
    "# Topic modeling using gensim and LDA.\n",
    "\n",
    "doc1 = \"Sugar is bad to consume. My sister likes to have sugar, but not my father.\" \n",
    "doc2 = \"My father spends a lot of time driving my sister around to dance practice.\"\n",
    "doc3 = \"Doctors suggest that driving may cause increased stress and blood pressure.\"\n",
    "doc_complete = [doc1, doc2, doc3]\n",
    "doc_clean = [doc.split() for doc in doc_complete]\n"
   ]
  },
  {
   "cell_type": "code",
   "execution_count": 16,
   "metadata": {},
   "outputs": [
    {
     "name": "stdout",
     "output_type": "stream",
     "text": [
      "[[(0, 1), (1, 1), (2, 1), (3, 1), (4, 1), (5, 1), (6, 1), (7, 1), (8, 1), (9, 1), (10, 1), (11, 1), (12, 1), (13, 2)], [(0, 1), (9, 1), (11, 1), (13, 1), (14, 1), (15, 1), (16, 1), (17, 1), (18, 1), (19, 1), (20, 1), (21, 1), (22, 1), (23, 1)], [(17, 1), (24, 1), (25, 1), (26, 1), (27, 1), (28, 1), (29, 1), (30, 1), (31, 1), (32, 1), (33, 1)]]\n"
     ]
    }
   ],
   "source": [
    "from gensim import corpora\n",
    "from pprint import pprint\n",
    "\n",
    "# Converting list of documents (corpus) into Document \n",
    "# Term Matrix using dictionary prepared above.\n",
    "\n",
    "# Converting into dictionary\n",
    "dictionary = corpora.Dictionary(doc_clean)\n",
    "# pprint(dictionary.token2id)\n",
    "\n",
    "# Converting the documents to bag of words representation.\n",
    "corpus = [dictionary.doc2bow(text) for text in doc_clean]\n",
    "print(corpus)"
   ]
  },
  {
   "cell_type": "code",
   "execution_count": 17,
   "metadata": {},
   "outputs": [
    {
     "name": "stdout",
     "output_type": "stream",
     "text": [
      "[(0, '0.053*\"driving\" + 0.053*\"My\" + 0.053*\"sister\" + 0.053*\"my\" + 0.053*\"to\" + 0.053*\"around\" + 0.053*\"lot\" + 0.053*\"father\" + 0.053*\"time\" + 0.053*\"spends\"'), (1, '0.029*\"driving\" + 0.029*\"My\" + 0.029*\"my\" + 0.029*\"sister\" + 0.029*\"to\" + 0.029*\"that\" + 0.029*\"increased\" + 0.029*\"cause\" + 0.029*\"may\" + 0.029*\"stress\"'), (2, '0.063*\"to\" + 0.036*\"likes\" + 0.036*\"is\" + 0.036*\"bad\" + 0.036*\"but\" + 0.036*\"sugar,\" + 0.036*\"not\" + 0.036*\"consume.\" + 0.036*\"Sugar\" + 0.036*\"have\"')]\n"
     ]
    }
   ],
   "source": [
    "from gensim import models\n",
    "\n",
    "lda = models.ldamodel.LdaModel\n",
    "\n",
    "\n",
    "# Training LDA model on the corpus (Document Matrix)\n",
    "ldamodel = lda(corpus, num_topics=3, id2word=dictionary, passes=50)\n",
    "print(ldamodel.print_topics())"
   ]
  },
  {
   "cell_type": "code",
   "execution_count": 18,
   "metadata": {},
   "outputs": [
    {
     "name": "stdout",
     "output_type": "stream",
     "text": [
      "  (0, 7)\t0.5844829010200651\n",
      "  (0, 2)\t0.5844829010200651\n",
      "  (0, 4)\t0.444514311537431\n",
      "  (0, 1)\t0.34520501686496574\n",
      "  (1, 1)\t0.3853716274664007\n",
      "  (1, 0)\t0.652490884512534\n",
      "  (1, 3)\t0.652490884512534\n",
      "  (2, 4)\t0.444514311537431\n",
      "  (2, 1)\t0.34520501686496574\n",
      "  (2, 6)\t0.5844829010200651\n",
      "  (2, 5)\t0.5844829010200651\n"
     ]
    }
   ],
   "source": [
    "# Term Frequecny - Inverse Document Frequency (TF-IDF)\n",
    "# This is a statistical feature.\n",
    "\n",
    "from sklearn.feature_extraction.text import TfidfVectorizer\n",
    "\n",
    "tfidf = TfidfVectorizer()\n",
    "\n",
    "corpus =  ['This is sample document', \n",
    "           'another random document', \n",
    "           'third sample document text']\n",
    "\n",
    "X = tfidf.fit_transform(corpus)\n",
    "print(X)"
   ]
  },
  {
   "cell_type": "code",
   "execution_count": null,
   "metadata": {},
   "outputs": [],
   "source": [
    "# Other statistical features include trivial features such as word count,\n",
    "# sentence count, punctuation count etc. these features may seem trivial\n",
    "# but can have a significant impact on the model. Other measures include\n",
    "# readibility measures such as syllable counts, smog index and flesch\n",
    "# reading ease. TextStat library is usefull for such features."
   ]
  }
 ],
 "metadata": {
  "kernelspec": {
   "display_name": "Python 3",
   "language": "python",
   "name": "python3"
  },
  "language_info": {
   "codemirror_mode": {
    "name": "ipython",
    "version": 3
   },
   "file_extension": ".py",
   "mimetype": "text/x-python",
   "name": "python",
   "nbconvert_exporter": "python",
   "pygments_lexer": "ipython3",
   "version": "3.6.4"
  }
 },
 "nbformat": 4,
 "nbformat_minor": 2
}

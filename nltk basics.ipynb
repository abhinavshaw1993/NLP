{
 "cells": [
  {
   "cell_type": "code",
   "execution_count": 13,
   "metadata": {},
   "outputs": [
    {
     "name": "stdout",
     "output_type": "stream",
     "text": [
      "Multiplying\n",
      "multipli\n"
     ]
    }
   ],
   "source": [
    "# Lemmatization using NLTK\n",
    "\n",
    "from nltk.stem.wordnet import WordNetLemmatizer\n",
    "from nltk.stem.porter import PorterStemmer\n",
    "stem = PorterStemmer()\n",
    "lem = WordNetLemmatizer()\n",
    "\n",
    "word = \"Multiplying\"\n",
    "print(lem.lemmatize(word, \"v\"))\n",
    "print(stem.stem(word))"
   ]
  },
  {
   "cell_type": "code",
   "execution_count": 17,
   "metadata": {},
   "outputs": [
    {
     "name": "stdout",
     "output_type": "stream",
     "text": [
      "['This', 'is', 'my', 'notebook', 'for', 'learning', 'NLTK']\n",
      "[('This', 'DT'), ('is', 'VBZ'), ('my', 'PRP$'), ('notebook', 'NN'), ('for', 'IN'), ('learning', 'VBG'), ('NLTK', 'NNP')]\n"
     ]
    }
   ],
   "source": [
    "# POS tagging\n",
    "\n",
    "import timeit\n",
    "from nltk import word_tokenize, pos_tag\n",
    "text = \"This is my notebook for learning NLTK\"\n",
    "tokens = word_tokenize(text)\n",
    "\n",
    "print(tokens)\n",
    "print(pos_tag(tokens))"
   ]
  },
  {
   "cell_type": "code",
   "execution_count": 19,
   "metadata": {},
   "outputs": [
    {
     "name": "stdout",
     "output_type": "stream",
     "text": [
      "[('Please', 'NNP'), ('book', 'NN'), ('my', 'PRP$'), ('flight', 'NN'), ('for', 'IN'), ('Delhi', 'NNP')]\n",
      "\n",
      "\n",
      "[('I', 'PRP'), ('am', 'VBP'), ('going', 'VBG'), ('to', 'TO'), ('read', 'VB'), ('this', 'DT'), ('book', 'NN'), ('in', 'IN'), ('the', 'DT'), ('flight', 'NN')]\n"
     ]
    }
   ],
   "source": [
    "# Word sense disambiguoation.\n",
    "\n",
    "from nltk import word_tokenize, pos_tag\n",
    "text1 = \"Please book my flight for Delhi\"\n",
    "text2 = \"I am going to read this book in the flight\"\n",
    "\n",
    "print(pos_tag(word_tokenize(text1)))\n",
    "print(\"\\n\")\n",
    "print(pos_tag(word_tokenize(text2)))\n",
    "\n",
    "# You see that the book is a verb in the fisrst sentence \n",
    "# and a noun in the second sentence. It is wrongly tagged in the\n",
    "# first sentece a noun."
   ]
  }
 ],
 "metadata": {
  "kernelspec": {
   "display_name": "Python 3",
   "language": "python",
   "name": "python3"
  },
  "language_info": {
   "codemirror_mode": {
    "name": "ipython",
    "version": 3
   },
   "file_extension": ".py",
   "mimetype": "text/x-python",
   "name": "python",
   "nbconvert_exporter": "python",
   "pygments_lexer": "ipython3",
   "version": "3.6.4"
  }
 },
 "nbformat": 4,
 "nbformat_minor": 2
}
